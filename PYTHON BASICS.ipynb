{
 "cells": [
  {
   "cell_type": "code",
   "execution_count": 2,
   "id": "002680ee",
   "metadata": {},
   "outputs": [
    {
     "name": "stdout",
     "output_type": "stream",
     "text": [
      "Hello World!\n",
      "1\n"
     ]
    }
   ],
   "source": [
    "print(\"Hello World!\")\n",
    "\n",
    "print(1)"
   ]
  },
  {
   "cell_type": "code",
   "execution_count": 3,
   "id": "fd12b932",
   "metadata": {},
   "outputs": [
    {
     "name": "stdout",
     "output_type": "stream",
     "text": [
      "Hello Python\n"
     ]
    }
   ],
   "source": [
    "a= \"Hello Python\"\n",
    "print(a)"
   ]
  },
  {
   "cell_type": "markdown",
   "id": "a6a65f79",
   "metadata": {},
   "source": [
    "# Variable Types in Python"
   ]
  },
  {
   "cell_type": "code",
   "execution_count": 4,
   "id": "5033b1bc",
   "metadata": {},
   "outputs": [
    {
     "name": "stdout",
     "output_type": "stream",
     "text": [
      "10 10.1\n"
     ]
    }
   ],
   "source": [
    "#Standard data types of variables\n",
    "\n",
    "#Numbers\n",
    "\n",
    "var1=10\n",
    "var2=10.1\n",
    "print(var1,var2)"
   ]
  },
  {
   "cell_type": "code",
   "execution_count": 5,
   "id": "41fcd56c",
   "metadata": {},
   "outputs": [
    {
     "name": "stdout",
     "output_type": "stream",
     "text": [
      "thejesh\n"
     ]
    }
   ],
   "source": [
    "#string type of variable\n",
    "\n",
    "name=\"thejesh\"\n",
    "print(name)"
   ]
  },
  {
   "cell_type": "code",
   "execution_count": 6,
   "id": "69b84d27",
   "metadata": {},
   "outputs": [
    {
     "name": "stdout",
     "output_type": "stream",
     "text": [
      "h\n"
     ]
    }
   ],
   "source": [
    "#string value   t h e j e s h\n",
    "#Index          0 1 2 3 4 5 6\n",
    "print(name[1])"
   ]
  },
  {
   "cell_type": "code",
   "execution_count": 7,
   "id": "73e6ba4a",
   "metadata": {},
   "outputs": [
    {
     "name": "stdout",
     "output_type": "stream",
     "text": [
      "thej\n"
     ]
    }
   ],
   "source": [
    "print(name[0:4])"
   ]
  },
  {
   "cell_type": "code",
   "execution_count": 8,
   "id": "4e7f45ec",
   "metadata": {},
   "outputs": [
    {
     "name": "stdout",
     "output_type": "stream",
     "text": [
      "thejesh\n"
     ]
    }
   ],
   "source": [
    "print(name[0:])"
   ]
  },
  {
   "cell_type": "code",
   "execution_count": 9,
   "id": "13893d74",
   "metadata": {},
   "outputs": [
    {
     "name": "stdout",
     "output_type": "stream",
     "text": [
      "h\n"
     ]
    }
   ],
   "source": [
    "print(name[-1])"
   ]
  },
  {
   "cell_type": "code",
   "execution_count": 10,
   "id": "40bc277b",
   "metadata": {},
   "outputs": [
    {
     "name": "stdout",
     "output_type": "stream",
     "text": [
      "s\n"
     ]
    }
   ],
   "source": [
    "print(name[-2])"
   ]
  },
  {
   "cell_type": "code",
   "execution_count": 11,
   "id": "f407641b",
   "metadata": {},
   "outputs": [
    {
     "name": "stdout",
     "output_type": "stream",
     "text": [
      "MachineLearing\n"
     ]
    }
   ],
   "source": [
    "#String Concatenation\n",
    "\n",
    "var1= \"Machine\"\n",
    "var2=\"Learing\"\n",
    "var3=var1+var2\n",
    "print(var3)"
   ]
  },
  {
   "cell_type": "code",
   "execution_count": 12,
   "id": "419e03bb",
   "metadata": {},
   "outputs": [
    {
     "data": {
      "text/plain": [
       "bool"
      ]
     },
     "execution_count": 12,
     "metadata": {},
     "output_type": "execute_result"
    }
   ],
   "source": [
    "#Boolean\n",
    "a= True\n",
    "type(a)"
   ]
  },
  {
   "cell_type": "code",
   "execution_count": 13,
   "id": "8b95fa70",
   "metadata": {},
   "outputs": [
    {
     "data": {
      "text/plain": [
       "bool"
      ]
     },
     "execution_count": 13,
     "metadata": {},
     "output_type": "execute_result"
    }
   ],
   "source": [
    "b=False\n",
    "type(b)"
   ]
  },
  {
   "cell_type": "code",
   "execution_count": 14,
   "id": "02e3123f",
   "metadata": {},
   "outputs": [
    {
     "name": "stdout",
     "output_type": "stream",
     "text": [
      "False\n"
     ]
    }
   ],
   "source": [
    "#Example\n",
    "a = 10\n",
    "b = 20\n",
    " \n",
    "# Comparing variables\n",
    "print(a == b)"
   ]
  },
  {
   "cell_type": "code",
   "execution_count": 15,
   "id": "e316e271",
   "metadata": {},
   "outputs": [
    {
     "name": "stdout",
     "output_type": "stream",
     "text": [
      "Loan Approved\n"
     ]
    }
   ],
   "source": [
    "#Conditional statements\n",
    "\n",
    "salary=55000\n",
    "\n",
    "if salary>5000:\n",
    "    print(\"Loan Approved\")\n",
    "else:\n",
    "    print(\"rejected\")"
   ]
  },
  {
   "cell_type": "code",
   "execution_count": 16,
   "id": "267916d9",
   "metadata": {},
   "outputs": [
    {
     "name": "stdout",
     "output_type": "stream",
     "text": [
      "0\n",
      "2\n",
      "4\n",
      "6\n",
      "8\n"
     ]
    }
   ],
   "source": [
    "#while loop- Execute the statements \"while\" condition is true\n",
    "\n",
    "i=0\n",
    "\n",
    "while i<10:\n",
    "    print(i)\n",
    "    i+=2"
   ]
  },
  {
   "cell_type": "code",
   "execution_count": 17,
   "id": "a28915ff",
   "metadata": {},
   "outputs": [
    {
     "name": "stdout",
     "output_type": "stream",
     "text": [
      "0\n",
      "2\n",
      "4\n",
      "6\n",
      "8\n"
     ]
    }
   ],
   "source": [
    "#Boolean variable in while loop\n",
    "\n",
    "i=0\n",
    "var1=True\n",
    "while var1:\n",
    "    print(i)\n",
    "    i+=2\n",
    "    if i >=10:\n",
    "        var1=False"
   ]
  },
  {
   "cell_type": "code",
   "execution_count": 18,
   "id": "cf0306ca",
   "metadata": {},
   "outputs": [
    {
     "name": "stdout",
     "output_type": "stream",
     "text": [
      "t\n",
      "h\n",
      "e\n",
      "j\n"
     ]
    }
   ],
   "source": [
    "#FOR LOOP- execute the block as long as there's a value in the sequence\n",
    "\n",
    "a= 'thej'\n",
    "\n",
    "for i in a:\n",
    "    print(i)"
   ]
  },
  {
   "cell_type": "code",
   "execution_count": 19,
   "id": "3f8941e1",
   "metadata": {},
   "outputs": [
    {
     "name": "stdout",
     "output_type": "stream",
     "text": [
      "0\n",
      "2\n",
      "4\n",
      "6\n",
      "8\n",
      "out side the for loop 8\n"
     ]
    }
   ],
   "source": [
    "for i in range(0,10,2):\n",
    "    print(i)\n",
    "else:\n",
    "    print(\"out side the for loop\",str(i))"
   ]
  },
  {
   "cell_type": "code",
   "execution_count": 20,
   "id": "5119f96a",
   "metadata": {},
   "outputs": [
    {
     "data": {
      "text/plain": [
       "['thej', 'sree', 'lilk']"
      ]
     },
     "execution_count": 20,
     "metadata": {},
     "output_type": "execute_result"
    }
   ],
   "source": [
    "#List- Sequence of elements\n",
    "\n",
    "list1=['thej','sree','lilk']\n",
    "list1"
   ]
  },
  {
   "cell_type": "code",
   "execution_count": 21,
   "id": "c2e8be97",
   "metadata": {},
   "outputs": [
    {
     "name": "stdout",
     "output_type": "stream",
     "text": [
      "likh\n"
     ]
    }
   ],
   "source": [
    "#Declare and initilaise lists\n",
    "\n",
    "list=['thej','sree','likh']\n",
    "\n",
    "#aceess a element of list\n",
    "\n",
    "print(list[2])\n",
    "\n"
   ]
  },
  {
   "cell_type": "code",
   "execution_count": 22,
   "id": "c56df927",
   "metadata": {},
   "outputs": [
    {
     "data": {
      "text/plain": [
       "['thej', 'sree', 'likh', 'vicky']"
      ]
     },
     "execution_count": 22,
     "metadata": {},
     "output_type": "execute_result"
    }
   ],
   "source": [
    "#Basic operations on list\n",
    "\n",
    "#Add an element to a list using Append\n",
    "\n",
    "list.append(\"vicky\")\n",
    "\n",
    "list\n",
    "\n"
   ]
  },
  {
   "cell_type": "code",
   "execution_count": 23,
   "id": "49d64f1b",
   "metadata": {},
   "outputs": [
    {
     "data": {
      "text/plain": [
       "['thej', 'Bella', 'likh', 'vicky']"
      ]
     },
     "execution_count": 23,
     "metadata": {},
     "output_type": "execute_result"
    }
   ],
   "source": [
    "#update an element\n",
    "\n",
    "list[1]='Bella'\n",
    "\n",
    "list"
   ]
  },
  {
   "cell_type": "code",
   "execution_count": 24,
   "id": "4d34de75",
   "metadata": {},
   "outputs": [
    {
     "data": {
      "text/plain": [
       "['thej', 'Bella', 'likh']"
      ]
     },
     "execution_count": 24,
     "metadata": {},
     "output_type": "execute_result"
    }
   ],
   "source": [
    "#delete an element\n",
    "\n",
    "del list[3]\n",
    "\n",
    "list"
   ]
  },
  {
   "cell_type": "code",
   "execution_count": 25,
   "id": "13884f7d",
   "metadata": {},
   "outputs": [
    {
     "data": {
      "text/plain": [
       "3"
      ]
     },
     "execution_count": 25,
     "metadata": {},
     "output_type": "execute_result"
    }
   ],
   "source": [
    "#Get the length of the list\n",
    "len(list)"
   ]
  },
  {
   "cell_type": "code",
   "execution_count": 26,
   "id": "04c882d8",
   "metadata": {},
   "outputs": [
    {
     "name": "stdout",
     "output_type": "stream",
     "text": [
      "['thej', 'Bella', 'likh', 'a', 'b', 'c']\n"
     ]
    }
   ],
   "source": [
    "#Concatenate two lists\n",
    "\n",
    "list2=['a','b','c']\n",
    "conlist=list+list2\n",
    "print(conlist)"
   ]
  },
  {
   "cell_type": "code",
   "execution_count": 27,
   "id": "c4e34b05",
   "metadata": {},
   "outputs": [
    {
     "data": {
      "text/plain": [
       "['Bella', 'likh', 'thej']"
      ]
     },
     "execution_count": 27,
     "metadata": {},
     "output_type": "execute_result"
    }
   ],
   "source": [
    "#sort the contnet of the list\n",
    "\n",
    "list.sort()\n",
    "list"
   ]
  },
  {
   "cell_type": "code",
   "execution_count": 28,
   "id": "1e28a5c1",
   "metadata": {},
   "outputs": [
    {
     "name": "stdout",
     "output_type": "stream",
     "text": [
      "[['thej', 'sree', 'likhin'], [123, 456, 789]]\n"
     ]
    }
   ],
   "source": [
    "#Multi dimensional lists\n",
    "\n",
    "twoDlist=[['thej','sree','likhin'],[123,456,789]]\n",
    "print(twoDlist)"
   ]
  },
  {
   "cell_type": "code",
   "execution_count": 29,
   "id": "07aaeccd",
   "metadata": {},
   "outputs": [
    {
     "name": "stdout",
     "output_type": "stream",
     "text": [
      "['thej', 'sree', 'likhin']\n"
     ]
    }
   ],
   "source": [
    "print(twoDlist[0])"
   ]
  },
  {
   "cell_type": "code",
   "execution_count": 30,
   "id": "a0823c90",
   "metadata": {},
   "outputs": [
    {
     "name": "stdout",
     "output_type": "stream",
     "text": [
      "sree\n"
     ]
    }
   ],
   "source": [
    "print(twoDlist[0][1])"
   ]
  },
  {
   "cell_type": "code",
   "execution_count": 31,
   "id": "31668774",
   "metadata": {},
   "outputs": [
    {
     "name": "stdout",
     "output_type": "stream",
     "text": [
      "456\n"
     ]
    }
   ],
   "source": [
    "print(twoDlist[1][1])"
   ]
  },
  {
   "cell_type": "code",
   "execution_count": 32,
   "id": "b2dd7510",
   "metadata": {},
   "outputs": [
    {
     "name": "stdout",
     "output_type": "stream",
     "text": [
      "[['sree', 'likhin'], [456, 789]]\n"
     ]
    }
   ],
   "source": [
    "#Slicing of Multi dimensional lists\n",
    "\n",
    "sublist=[]\n",
    "for list1 in twoDlist:\n",
    "    sublist.append(list1[1:3])\n",
    "    \n",
    "print(sublist)"
   ]
  },
  {
   "cell_type": "code",
   "execution_count": 33,
   "id": "91cc2353",
   "metadata": {},
   "outputs": [
    {
     "name": "stdout",
     "output_type": "stream",
     "text": [
      "2\n"
     ]
    }
   ],
   "source": [
    "#Tuples\n",
    "\n",
    "t=(1,2,3)\n",
    "\n",
    "print(t[1])"
   ]
  },
  {
   "cell_type": "code",
   "execution_count": 34,
   "id": "38a1fc3a",
   "metadata": {},
   "outputs": [
    {
     "data": {
      "text/plain": [
       "3"
      ]
     },
     "execution_count": 34,
     "metadata": {},
     "output_type": "execute_result"
    }
   ],
   "source": [
    "len(t)"
   ]
  },
  {
   "cell_type": "code",
   "execution_count": 35,
   "id": "72867eb7",
   "metadata": {},
   "outputs": [
    {
     "name": "stdout",
     "output_type": "stream",
     "text": [
      "Karnataka\n"
     ]
    }
   ],
   "source": [
    "#Dictionary\n",
    "\n",
    "Address={'street':'RV NAGAR', 'State':'Karnataka','City':'Mangalore'}\n",
    "\n",
    "print(Address['State'])"
   ]
  },
  {
   "cell_type": "code",
   "execution_count": 36,
   "id": "753447c8",
   "metadata": {},
   "outputs": [],
   "source": [
    "#Update the value using key\n",
    "\n",
    "Address['street']='Gandhi nagar'"
   ]
  },
  {
   "cell_type": "code",
   "execution_count": 37,
   "id": "d64b6739",
   "metadata": {},
   "outputs": [
    {
     "name": "stdout",
     "output_type": "stream",
     "text": [
      "Gandhi nagar\n"
     ]
    }
   ],
   "source": [
    "print(Address['street'])"
   ]
  },
  {
   "cell_type": "code",
   "execution_count": 38,
   "id": "06425905",
   "metadata": {},
   "outputs": [],
   "source": [
    "#Add key - value pair to existing DICT\n",
    "\n",
    "Address['zip']=574227"
   ]
  },
  {
   "cell_type": "code",
   "execution_count": 39,
   "id": "d779ac91",
   "metadata": {},
   "outputs": [
    {
     "data": {
      "text/plain": [
       "{'street': 'Gandhi nagar',\n",
       " 'State': 'Karnataka',\n",
       " 'City': 'Mangalore',\n",
       " 'zip': 574227}"
      ]
     },
     "execution_count": 39,
     "metadata": {},
     "output_type": "execute_result"
    }
   ],
   "source": [
    "Address"
   ]
  },
  {
   "cell_type": "code",
   "execution_count": 40,
   "id": "c531952c",
   "metadata": {},
   "outputs": [],
   "source": [
    "#Delete key - value pair DICT\n",
    "\n",
    "del Address['zip']"
   ]
  },
  {
   "cell_type": "code",
   "execution_count": 41,
   "id": "50f30db8",
   "metadata": {},
   "outputs": [
    {
     "data": {
      "text/plain": [
       "{'street': 'Gandhi nagar', 'State': 'Karnataka', 'City': 'Mangalore'}"
      ]
     },
     "execution_count": 41,
     "metadata": {},
     "output_type": "execute_result"
    }
   ],
   "source": [
    "Address"
   ]
  },
  {
   "cell_type": "code",
   "execution_count": 42,
   "id": "81ccf323",
   "metadata": {},
   "outputs": [
    {
     "data": {
      "text/plain": [
       "3"
      ]
     },
     "execution_count": 42,
     "metadata": {},
     "output_type": "execute_result"
    }
   ],
   "source": [
    "#Get the length of the dict\n",
    "\n",
    "len(Address)"
   ]
  },
  {
   "cell_type": "code",
   "execution_count": 43,
   "id": "f86840ee",
   "metadata": {},
   "outputs": [
    {
     "data": {
      "text/plain": [
       "\"{'street': 'Gandhi nagar', 'State': 'Karnataka', 'City': 'Mangalore'}\""
      ]
     },
     "execution_count": 43,
     "metadata": {},
     "output_type": "execute_result"
    }
   ],
   "source": [
    "#convert dict into strings\n",
    "\n",
    "str(Address)"
   ]
  },
  {
   "cell_type": "code",
   "execution_count": 44,
   "id": "c98b4e3b",
   "metadata": {},
   "outputs": [
    {
     "name": "stdout",
     "output_type": "stream",
     "text": [
      "dict_keys(['street', 'State', 'City'])\n"
     ]
    }
   ],
   "source": [
    "#Get the list of all the keys\n",
    "\n",
    "print(Address.keys())"
   ]
  },
  {
   "cell_type": "code",
   "execution_count": 45,
   "id": "a86227c7",
   "metadata": {},
   "outputs": [
    {
     "name": "stdout",
     "output_type": "stream",
     "text": [
      "dict_values(['Gandhi nagar', 'Karnataka', 'Mangalore'])\n"
     ]
    }
   ],
   "source": [
    "#Get values\n",
    "\n",
    "print(Address.values())"
   ]
  },
  {
   "cell_type": "code",
   "execution_count": 46,
   "id": "fc132b9f",
   "metadata": {},
   "outputs": [
    {
     "name": "stdout",
     "output_type": "stream",
     "text": [
      "This is my first function\n"
     ]
    }
   ],
   "source": [
    "#Functions\n",
    "\n",
    "def myFunction():\n",
    "    print(\"This is my first function\")\n",
    "    \n",
    "myFunction()"
   ]
  },
  {
   "cell_type": "code",
   "execution_count": 47,
   "id": "967c8254",
   "metadata": {},
   "outputs": [
    {
     "name": "stdout",
     "output_type": "stream",
     "text": [
      "enter first number:2\n",
      "enter second number:2\n",
      "Multiplication is 4\n"
     ]
    }
   ],
   "source": [
    "#Function for multiplication\n",
    "\n",
    "def multiply(num1,num2):\n",
    "    result=num1*num2\n",
    "    return result\n",
    "\n",
    "\n",
    "num1=int(input(\"enter first number:\"))\n",
    "num2=int(input(\"enter second number:\"))\n",
    "\n",
    "result= multiply(num1,num2)\n",
    "print(\"Multiplication is\", result)"
   ]
  },
  {
   "cell_type": "code",
   "execution_count": 2,
   "id": "91408f94",
   "metadata": {},
   "outputs": [
    {
     "name": "stdout",
     "output_type": "stream",
     "text": [
      "Var1 inside the function 15\n",
      "Var2 inside the function 45\n",
      "Var2 outside the function 10\n"
     ]
    }
   ],
   "source": [
    "#Local and Global variables\n",
    "\n",
    "def myFunction():\n",
    "    var1=15\n",
    "    var2=45\n",
    "    print(\"Var1 inside the function\",var1)\n",
    "    print(\"Var2 inside the function\",var2)\n",
    "    \n",
    "    \n",
    "#Main progeam\n",
    "\n",
    "var2=10\n",
    "myFunction()\n",
    "print(\"Var2 outside the function\",var2)\n",
    "    "
   ]
  },
  {
   "cell_type": "code",
   "execution_count": 2,
   "id": "bf4b6e19",
   "metadata": {},
   "outputs": [
    {
     "name": "stdout",
     "output_type": "stream",
     "text": [
      "Hello student\n"
     ]
    }
   ],
   "source": [
    "#Class and it's objects\n",
    "\n",
    "class Student:\n",
    "    def hello(self):\n",
    "        print(\"Hello student\")\n",
    "\n",
    "s1=Student()\n",
    "s1.hello()"
   ]
  },
  {
   "cell_type": "code",
   "execution_count": 3,
   "id": "5d12ad6b",
   "metadata": {},
   "outputs": [
    {
     "name": "stdout",
     "output_type": "stream",
     "text": [
      "Hello  John\n",
      "e001\n"
     ]
    }
   ],
   "source": [
    "#Creating attributes\n",
    "\n",
    "class Student:\n",
    "    #create attribute of class\n",
    "    def __init__(self,fname,lname,gender,enrno):\n",
    "        self.fname=fname\n",
    "        self.lname=lname\n",
    "        self.gender=gender\n",
    "        self.enrno=enrno\n",
    "    def hello(self):\n",
    "        print(\"Hello \", self.fname)\n",
    "\n",
    "s1=Student(\"John\",\"Smith\",\"m\",\"e001\")\n",
    "s1.hello()\n",
    "\n",
    "print(s1.enrno)"
   ]
  },
  {
   "cell_type": "code",
   "execution_count": null,
   "id": "a63e3ea8",
   "metadata": {},
   "outputs": [],
   "source": []
  }
 ],
 "metadata": {
  "kernelspec": {
   "display_name": "Python 3 (ipykernel)",
   "language": "python",
   "name": "python3"
  },
  "language_info": {
   "codemirror_mode": {
    "name": "ipython",
    "version": 3
   },
   "file_extension": ".py",
   "mimetype": "text/x-python",
   "name": "python",
   "nbconvert_exporter": "python",
   "pygments_lexer": "ipython3",
   "version": "3.9.7"
  }
 },
 "nbformat": 4,
 "nbformat_minor": 5
}
